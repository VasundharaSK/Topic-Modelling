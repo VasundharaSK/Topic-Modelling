{
  "nbformat": 4,
  "nbformat_minor": 0,
  "metadata": {
    "colab": {
      "name": "Word2Vec.ipynb",
      "provenance": [],
      "collapsed_sections": [],
      "authorship_tag": "ABX9TyP+kecRsQma77CfO5snU0fF",
      "include_colab_link": true
    },
    "kernelspec": {
      "name": "python3",
      "display_name": "Python 3"
    },
    "language_info": {
      "name": "python"
    },
    "accelerator": "GPU"
  },
  "cells": [
    {
      "cell_type": "markdown",
      "metadata": {
        "id": "view-in-github",
        "colab_type": "text"
      },
      "source": [
        "<a href=\"https://colab.research.google.com/github/VasundharaSK/Topic-Modelling/blob/main/Word2Vec.ipynb\" target=\"_parent\"><img src=\"https://colab.research.google.com/assets/colab-badge.svg\" alt=\"Open In Colab\"/></a>"
      ]
    },
    {
      "cell_type": "code",
      "metadata": {
        "colab": {
          "base_uri": "https://localhost:8080/"
        },
        "id": "TrRn9ZD-YU_2",
        "outputId": "bc1741a4-ad95-468f-ff36-699d7d5ecf2d"
      },
      "source": [
        "!wget http://mattmahoney.net/dc/text8.zip"
      ],
      "execution_count": 2,
      "outputs": [
        {
          "output_type": "stream",
          "text": [
            "--2021-05-24 03:13:15--  http://mattmahoney.net/dc/text8.zip\n",
            "Resolving mattmahoney.net (mattmahoney.net)... 67.195.197.24\n",
            "Connecting to mattmahoney.net (mattmahoney.net)|67.195.197.24|:80... connected.\n",
            "HTTP request sent, awaiting response... 200 OK\n",
            "Length: 31344016 (30M) [application/zip]\n",
            "Saving to: ‘text8.zip’\n",
            "\n",
            "text8.zip           100%[===================>]  29.89M   850KB/s    in 37s     \n",
            "\n",
            "2021-05-24 03:13:52 (835 KB/s) - ‘text8.zip’ saved [31344016/31344016]\n",
            "\n"
          ],
          "name": "stdout"
        }
      ]
    },
    {
      "cell_type": "code",
      "metadata": {
        "colab": {
          "base_uri": "https://localhost:8080/"
        },
        "id": "tKfExlkzYkQI",
        "outputId": "2e58b043-59f2-499f-f739-4f5111510481"
      },
      "source": [
        "# Unzip the data from the path you extracted the data to\n",
        "!unzip /content/text8.zip"
      ],
      "execution_count": 3,
      "outputs": [
        {
          "output_type": "stream",
          "text": [
            "Archive:  /content/text8.zip\n",
            "  inflating: text8                   \n"
          ],
          "name": "stdout"
        }
      ]
    },
    {
      "cell_type": "code",
      "metadata": {
        "id": "bz6l0vReZa_S"
      },
      "source": [
        "from gensim.models import word2vec\n",
        "sentences = word2vec.Text8Corpus('/content/text8')\n",
        "model = word2vec.Word2Vec(sentences, size=200, hs=1) \n",
        "# hs: If hirearchical softmax used for model training"
      ],
      "execution_count": 4,
      "outputs": []
    },
    {
      "cell_type": "code",
      "metadata": {
        "colab": {
          "base_uri": "https://localhost:8080/"
        },
        "id": "WiEVVNLUZhHt",
        "outputId": "252ee2e5-817f-466a-bae4-3e27bd21c4a5"
      },
      "source": [
        "print(model)"
      ],
      "execution_count": 5,
      "outputs": [
        {
          "output_type": "stream",
          "text": [
            "Word2Vec(vocab=71290, size=200, alpha=0.025)\n"
          ],
          "name": "stdout"
        }
      ]
    },
    {
      "cell_type": "code",
      "metadata": {
        "colab": {
          "base_uri": "https://localhost:8080/"
        },
        "id": "IYMNrX55Z9fl",
        "outputId": "7229dd59-26fe-4feb-ecdf-0b633cdc5a95"
      },
      "source": [
        "model.wv.most_similar(positive=['woman', 'king'], negative=['man'], topn=1)[0]"
      ],
      "execution_count": 6,
      "outputs": [
        {
          "output_type": "execute_result",
          "data": {
            "text/plain": [
              "('queen', 0.5584158897399902)"
            ]
          },
          "metadata": {
            "tags": []
          },
          "execution_count": 6
        }
      ]
    },
    {
      "cell_type": "code",
      "metadata": {
        "colab": {
          "base_uri": "https://localhost:8080/"
        },
        "id": "Y7euIMIzaIrE",
        "outputId": "57aa8d92-f2d8-4fa8-d285-d8d5a9675537"
      },
      "source": [
        "model.wv.most_similar_cosmul(positive=['woman', 'king'], negative=['man'])"
      ],
      "execution_count": 7,
      "outputs": [
        {
          "output_type": "execute_result",
          "data": {
            "text/plain": [
              "[('queen', 0.8834685683250427),\n",
              " ('empress', 0.8809548020362854),\n",
              " ('melisende', 0.8777002096176147),\n",
              " ('jadwiga', 0.8542822599411011),\n",
              " ('salian', 0.848355770111084),\n",
              " ('throne', 0.84197998046875),\n",
              " ('regent', 0.8395129442214966),\n",
              " ('consort', 0.8227633833885193),\n",
              " ('eldest', 0.8196775913238525),\n",
              " ('sigismund', 0.8183920383453369)]"
            ]
          },
          "metadata": {
            "tags": []
          },
          "execution_count": 7
        }
      ]
    },
    {
      "cell_type": "code",
      "metadata": {
        "colab": {
          "base_uri": "https://localhost:8080/"
        },
        "id": "M-dQS6JhaL4C",
        "outputId": "88fed3d3-69d7-4bc2-a00c-acc01bcd98d7"
      },
      "source": [
        "#vector representation of a word\n",
        "model.wv['computer']"
      ],
      "execution_count": 8,
      "outputs": [
        {
          "output_type": "execute_result",
          "data": {
            "text/plain": [
              "array([-1.9223585 ,  0.91136503, -0.7914442 ,  0.80733997, -0.00582439,\n",
              "       -0.72446173, -0.01901716, -1.1136563 ,  0.57273024, -0.04571109,\n",
              "       -0.42593223, -0.987682  ,  0.32722834,  1.13852   , -0.954321  ,\n",
              "        0.8889118 ,  1.1868973 ,  1.1550938 , -0.13884965,  1.2491415 ,\n",
              "        0.29493523,  0.3324718 ,  0.50437284, -0.5136837 ,  1.1445185 ,\n",
              "       -0.6264824 ,  0.65709245, -1.5613878 , -0.06516405, -0.28265873,\n",
              "        0.3236988 , -0.06357752,  0.8208911 ,  0.8527484 ,  0.01579219,\n",
              "        0.10878067, -0.95923865,  0.9659624 , -0.11874671, -0.23575737,\n",
              "       -0.81107974, -0.6903105 ,  0.1977723 , -0.24105458, -0.10509752,\n",
              "       -0.6768415 , -0.7919433 ,  0.6901207 , -0.7338073 , -0.5911079 ,\n",
              "        1.2629042 , -1.3776702 , -0.2357273 , -1.8681734 , -1.0686564 ,\n",
              "        0.60238445,  0.49123204, -1.145029  , -1.1301292 ,  0.85799026,\n",
              "       -0.43076283,  0.3487398 ,  3.9122934 , -0.44115868,  0.6064876 ,\n",
              "       -1.2460471 ,  0.6495855 ,  0.19162758, -0.61095434, -0.02816886,\n",
              "        0.3198514 ,  0.33366105,  0.8377447 ,  0.11206052, -0.50695705,\n",
              "        0.6645329 ,  0.9748187 ,  0.6949523 , -1.1573951 ,  0.8974927 ,\n",
              "        0.07608031, -0.38415563,  1.5146052 ,  0.45383012,  0.19513346,\n",
              "        1.5684777 ,  0.79610354, -0.6813021 ,  0.9038259 ,  0.7413873 ,\n",
              "        1.3559227 , -0.08784816,  1.4075016 , -0.8327016 ,  0.51176524,\n",
              "       -0.8953523 ,  1.759458  ,  0.369835  , -0.7036663 , -0.39464977,\n",
              "       -0.7465206 , -0.5415529 ,  0.17175171,  0.02752998, -1.2388837 ,\n",
              "        0.5891475 ,  0.72588634,  2.2497187 , -0.2751114 ,  1.1270593 ,\n",
              "        2.5208583 , -1.5913475 ,  0.14953464,  0.44150704, -0.7100815 ,\n",
              "       -0.09496008, -0.41419032, -0.3456285 ,  0.11681039, -1.0106874 ,\n",
              "       -0.02013351, -0.33020383,  0.19284791, -0.7411218 ,  0.31632116,\n",
              "        1.4964657 ,  1.468519  , -0.9869052 , -1.4822221 ,  0.2198156 ,\n",
              "        0.17240809, -0.76375407,  1.1260626 ,  0.03825834,  0.79196286,\n",
              "        1.3172139 ,  0.63956374, -0.61505336, -1.1849158 , -0.78031826,\n",
              "       -1.2426956 , -0.55356735,  0.6524183 ,  0.19361669,  1.3963566 ,\n",
              "       -0.81845903,  0.04595743, -0.04512065,  0.69467497,  1.1283967 ,\n",
              "       -0.8818268 , -0.54639643,  0.6304195 ,  1.3894618 ,  0.43446591,\n",
              "       -0.14082393,  0.09252179, -0.3462185 ,  0.88904226, -2.0283637 ,\n",
              "       -0.30601114,  1.3929802 , -0.08644797,  1.7489874 ,  0.1708152 ,\n",
              "       -1.0099028 , -1.5483462 , -0.22480804,  1.1172798 , -1.1055039 ,\n",
              "       -1.1619684 , -0.24993886, -0.42389086, -0.24613614,  1.1358638 ,\n",
              "       -1.0963178 ,  1.0059394 ,  0.70219177,  0.59444076, -0.334383  ,\n",
              "        0.8294328 ,  0.0374965 ,  0.15572818, -0.35241747, -0.27810314,\n",
              "       -1.1745752 , -0.01044075, -1.4449455 , -0.5938193 , -1.3761672 ,\n",
              "        0.17861868,  1.6062498 ,  1.4739188 ,  0.44335225,  0.71819973,\n",
              "       -1.2371583 , -0.19400474,  0.84000576,  0.56255287, -1.455619  ],\n",
              "      dtype=float32)"
            ]
          },
          "metadata": {
            "tags": []
          },
          "execution_count": 8
        }
      ]
    },
    {
      "cell_type": "code",
      "metadata": {
        "id": "GH8r310laVP8"
      },
      "source": [
        "#save your model to disk and reuse it again\n",
        "model.save('text8_model')\n",
        "model = word2vec.Word2Vec.load('text8_model')"
      ],
      "execution_count": 9,
      "outputs": []
    },
    {
      "cell_type": "markdown",
      "metadata": {
        "id": "PLlSem9zarsQ"
      },
      "source": [
        "**Using word vectors we can identify which word in a list is the farthest away from the other words. Gensim implements this functionality with dosent_match method.**"
      ]
    },
    {
      "cell_type": "code",
      "metadata": {
        "colab": {
          "base_uri": "https://localhost:8080/",
          "height": 92
        },
        "id": "wOG2yRJ-au84",
        "outputId": "8de6def3-3018-41d2-b36a-ce5680ef9ab4"
      },
      "source": [
        "model.wv.doesnt_match(\"breakfast cereal dinner lunch\".split())\n",
        "\n"
      ],
      "execution_count": 10,
      "outputs": [
        {
          "output_type": "stream",
          "text": [
            "/usr/local/lib/python3.7/dist-packages/gensim/models/keyedvectors.py:895: FutureWarning: arrays to stack must be passed as a \"sequence\" type such as list or tuple. Support for non-sequence iterables such as generators is deprecated as of NumPy 1.16 and will raise an error in the future.\n",
            "  vectors = vstack(self.word_vec(word, use_norm=True) for word in used_words).astype(REAL)\n"
          ],
          "name": "stderr"
        },
        {
          "output_type": "execute_result",
          "data": {
            "application/vnd.google.colaboratory.intrinsic+json": {
              "type": "string"
            },
            "text/plain": [
              "'cereal'"
            ]
          },
          "metadata": {
            "tags": []
          },
          "execution_count": 10
        }
      ]
    },
    {
      "cell_type": "markdown",
      "metadata": {
        "id": "f_6Z8bQEbEjM"
      },
      "source": [
        "We can also use the model to understand how similar or different words are in a corpus:"
      ]
    },
    {
      "cell_type": "code",
      "metadata": {
        "colab": {
          "base_uri": "https://localhost:8080/"
        },
        "id": "mfHfsPn_bGy8",
        "outputId": "51c1289c-bc82-40d6-cb3e-588a93e94f5b"
      },
      "source": [
        "model.wv.distance('man', 'woman') "
      ],
      "execution_count": 12,
      "outputs": [
        {
          "output_type": "execute_result",
          "data": {
            "text/plain": [
              "0.3662632703781128"
            ]
          },
          "metadata": {
            "tags": []
          },
          "execution_count": 12
        }
      ]
    }
  ]
}